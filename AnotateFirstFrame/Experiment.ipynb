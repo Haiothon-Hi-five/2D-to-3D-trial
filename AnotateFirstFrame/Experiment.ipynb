{
 "cells": [
  {
   "cell_type": "code",
   "execution_count": null,
   "id": "b7fe934b",
   "metadata": {},
   "outputs": [],
   "source": []
  },
  {
   "cell_type": "code",
   "execution_count": 1,
   "id": "35500179",
   "metadata": {},
   "outputs": [],
   "source": [
    "# common packages \n",
    "import numpy as np \n",
    "import os\n",
    "import copy\n",
    "from math import *\n",
    "import matplotlib.pyplot as plt\n",
    "from functools import reduce\n",
    "# reading in dicom files\n",
    "import pydicom\n",
    "# skimage image processing packages\n",
    "from skimage import measure, morphology\n",
    "from skimage.morphology import ball, binary_closing\n",
    "from skimage.measure import label, regionprops\n",
    "# scipy linear algebra functions \n",
    "from scipy.linalg import norm\n",
    "import scipy.ndimage\n",
    "# ipywidgets for some interactive plots\n",
    "from ipywidgets.widgets import * \n",
    "import ipywidgets as widgets\n",
    "# plotly 3D interactive graphs \n",
    "import plotly\n",
    "from plotly.graph_objs import *\n",
    "import chart_studio.plotly as py\n",
    "# set plotly credentials here \n",
    "# this allows you to send results to your account plotly.tools.set_credentials_file(username=your_username, api_key=your_key)"
   ]
  },
  {
   "cell_type": "code",
   "execution_count": 2,
   "id": "aae37779",
   "metadata": {},
   "outputs": [
    {
     "data": {
      "text/html": [
       "        <script type=\"text/javascript\">\n",
       "        window.PlotlyConfig = {MathJaxConfig: 'local'};\n",
       "        if (window.MathJax) {MathJax.Hub.Config({SVG: {font: \"STIX-Web\"}});}\n",
       "        if (typeof require !== 'undefined') {\n",
       "        require.undef(\"plotly\");\n",
       "        requirejs.config({\n",
       "            paths: {\n",
       "                'plotly': ['https://cdn.plot.ly/plotly-2.6.3.min']\n",
       "            }\n",
       "        });\n",
       "        require(['plotly'], function(Plotly) {\n",
       "            window._Plotly = Plotly;\n",
       "        });\n",
       "        }\n",
       "        </script>\n",
       "        "
      ]
     },
     "metadata": {},
     "output_type": "display_data"
    }
   ],
   "source": [
    "import numpy as np\n",
    "import os\n",
    "import matplotlib.pyplot as plt\n",
    "from glob import glob\n",
    "from mpl_toolkits.mplot3d.art3d import Poly3DCollection\n",
    "import scipy.ndimage\n",
    "from skimage import morphology\n",
    "from skimage import measure\n",
    "from skimage.transform import resize\n",
    "from sklearn.cluster import KMeans\n",
    "from plotly import __version__\n",
    "from plotly.offline import download_plotlyjs, init_notebook_mode, plot, iplot\n",
    "from plotly.tools import FigureFactory as FF\n",
    "from plotly.graph_objs import *\n",
    "init_notebook_mode(connected=True) "
   ]
  },
  {
   "cell_type": "code",
   "execution_count": 3,
   "id": "b73e99a5",
   "metadata": {},
   "outputs": [],
   "source": [
    "# data_path = \"data2/IM_003\"\n",
    "# output_path = working_path = \"output\"\n",
    "# g = glob(data_path)\n",
    "\n",
    "# # Print out the first 5 file names to verify we're in the right folder.\n",
    "# print (\"Total of %d DICOM images.\\nFirst 5 filenames:\" % len(g))\n",
    "# # print ('\\n',join(g[:5])"
   ]
  },
  {
   "cell_type": "code",
   "execution_count": 56,
   "id": "f41b665d",
   "metadata": {},
   "outputs": [],
   "source": [
    "def load_scan(path):\n",
    "    \n",
    "    slices = [pydicom.dcmread(path + \"/\" + s,force=True) for s in os.listdir(path)]\n",
    "    slices = [s for s in slices if \"SliceLocation\" in s]\n",
    "    slices.sort(key = lambda x: int(x.InstanceNumber))\n",
    "    try:\n",
    "        slice_thickness = np.abs(slices[0].ImagePositionPatient[2] - slices[1].ImagePositionPatient[2])\n",
    "    except:\n",
    "        slice_thickness = np.abs(slices[0].SliceLocation - slices[1].SliceLocation)\n",
    "    for s in slices:\n",
    "        s.SliceThickness = slice_thickness\n",
    "    return slices\n",
    "def get_pixels_hu(scans):\n",
    "    image = np.stack([s.pixel_array for s in scans])\n",
    "    image = image.astype(np.int16)\n",
    "    # Set outside-of-scan pixels to 0\n",
    "    # The intercept is usually -1024, so air is approximately 0\n",
    "    image[image == -2000] = 0\n",
    "    \n",
    "    # Convert to Hounsfield units (HU)\n",
    "    intercept = scans[0].RescaleIntercept\n",
    "    slope = scans[0].RescaleSlope\n",
    "    \n",
    "    if slope != 1:\n",
    "        image = slope * image.astype(np.float64)\n",
    "        image = image.astype(np.int16)\n",
    "        \n",
    "    image += np.int16(intercept)\n",
    "    \n",
    "    return np.array(image, dtype=np.int16)"
   ]
  },
  {
   "cell_type": "code",
   "execution_count": 57,
   "id": "fcd84289",
   "metadata": {
    "scrolled": false
   },
   "outputs": [
    {
     "ename": "ValueError",
     "evalue": "need at least one array to stack",
     "output_type": "error",
     "traceback": [
      "\u001b[1;31m---------------------------------------------------------------------------\u001b[0m",
      "\u001b[1;31mValueError\u001b[0m                                Traceback (most recent call last)",
      "\u001b[1;32m~\\AppData\\Local\\Temp/ipykernel_14088/3059044134.py\u001b[0m in \u001b[0;36m<module>\u001b[1;34m\u001b[0m\n\u001b[0;32m      1\u001b[0m \u001b[0mpath\u001b[0m \u001b[1;33m=\u001b[0m \u001b[1;34m'data2'\u001b[0m\u001b[1;33m\u001b[0m\u001b[1;33m\u001b[0m\u001b[0m\n\u001b[0;32m      2\u001b[0m \u001b[0mpatient_dicom\u001b[0m \u001b[1;33m=\u001b[0m \u001b[0mload_scan\u001b[0m\u001b[1;33m(\u001b[0m\u001b[0mpath\u001b[0m\u001b[1;33m)\u001b[0m\u001b[1;33m\u001b[0m\u001b[1;33m\u001b[0m\u001b[0m\n\u001b[1;32m----> 3\u001b[1;33m \u001b[0mpatient_pixels\u001b[0m \u001b[1;33m=\u001b[0m \u001b[0mget_pixels_hu\u001b[0m\u001b[1;33m(\u001b[0m\u001b[0mpatient_dicom\u001b[0m\u001b[1;33m)\u001b[0m\u001b[1;33m\u001b[0m\u001b[1;33m\u001b[0m\u001b[0m\n\u001b[0m\u001b[0;32m      4\u001b[0m \u001b[1;31m#sanity check\u001b[0m\u001b[1;33m\u001b[0m\u001b[1;33m\u001b[0m\u001b[0m\n\u001b[0;32m      5\u001b[0m \u001b[0mplt\u001b[0m\u001b[1;33m.\u001b[0m\u001b[0mimshow\u001b[0m\u001b[1;33m(\u001b[0m\u001b[0mpatient_pixels\u001b[0m\u001b[1;33m[\u001b[0m\u001b[1;36m326\u001b[0m\u001b[1;33m]\u001b[0m\u001b[1;33m,\u001b[0m \u001b[0mcmap\u001b[0m\u001b[1;33m=\u001b[0m\u001b[0mplt\u001b[0m\u001b[1;33m.\u001b[0m\u001b[0mcm\u001b[0m\u001b[1;33m.\u001b[0m\u001b[0mbone\u001b[0m\u001b[1;33m)\u001b[0m\u001b[1;33m\u001b[0m\u001b[1;33m\u001b[0m\u001b[0m\n",
      "\u001b[1;32m~\\AppData\\Local\\Temp/ipykernel_14088/2369309518.py\u001b[0m in \u001b[0;36mget_pixels_hu\u001b[1;34m(scans)\u001b[0m\n\u001b[0;32m     12\u001b[0m     \u001b[1;32mreturn\u001b[0m \u001b[0mslices\u001b[0m\u001b[1;33m\u001b[0m\u001b[1;33m\u001b[0m\u001b[0m\n\u001b[0;32m     13\u001b[0m \u001b[1;32mdef\u001b[0m \u001b[0mget_pixels_hu\u001b[0m\u001b[1;33m(\u001b[0m\u001b[0mscans\u001b[0m\u001b[1;33m)\u001b[0m\u001b[1;33m:\u001b[0m\u001b[1;33m\u001b[0m\u001b[1;33m\u001b[0m\u001b[0m\n\u001b[1;32m---> 14\u001b[1;33m     \u001b[0mimage\u001b[0m \u001b[1;33m=\u001b[0m \u001b[0mnp\u001b[0m\u001b[1;33m.\u001b[0m\u001b[0mstack\u001b[0m\u001b[1;33m(\u001b[0m\u001b[1;33m[\u001b[0m\u001b[0ms\u001b[0m\u001b[1;33m.\u001b[0m\u001b[0mpixel_array\u001b[0m \u001b[1;32mfor\u001b[0m \u001b[0ms\u001b[0m \u001b[1;32min\u001b[0m \u001b[0mscans\u001b[0m\u001b[1;33m]\u001b[0m\u001b[1;33m)\u001b[0m\u001b[1;33m\u001b[0m\u001b[1;33m\u001b[0m\u001b[0m\n\u001b[0m\u001b[0;32m     15\u001b[0m     \u001b[0mimage\u001b[0m \u001b[1;33m=\u001b[0m \u001b[0mimage\u001b[0m\u001b[1;33m.\u001b[0m\u001b[0mastype\u001b[0m\u001b[1;33m(\u001b[0m\u001b[0mnp\u001b[0m\u001b[1;33m.\u001b[0m\u001b[0mint16\u001b[0m\u001b[1;33m)\u001b[0m\u001b[1;33m\u001b[0m\u001b[1;33m\u001b[0m\u001b[0m\n\u001b[0;32m     16\u001b[0m     \u001b[1;31m# Set outside-of-scan pixels to 0\u001b[0m\u001b[1;33m\u001b[0m\u001b[1;33m\u001b[0m\u001b[0m\n",
      "\u001b[1;32m<__array_function__ internals>\u001b[0m in \u001b[0;36mstack\u001b[1;34m(*args, **kwargs)\u001b[0m\n",
      "\u001b[1;32m~\\AppData\\Local\\Programs\\Python\\Python39\\lib\\site-packages\\numpy\\core\\shape_base.py\u001b[0m in \u001b[0;36mstack\u001b[1;34m(arrays, axis, out)\u001b[0m\n\u001b[0;32m    421\u001b[0m     \u001b[0marrays\u001b[0m \u001b[1;33m=\u001b[0m \u001b[1;33m[\u001b[0m\u001b[0masanyarray\u001b[0m\u001b[1;33m(\u001b[0m\u001b[0marr\u001b[0m\u001b[1;33m)\u001b[0m \u001b[1;32mfor\u001b[0m \u001b[0marr\u001b[0m \u001b[1;32min\u001b[0m \u001b[0marrays\u001b[0m\u001b[1;33m]\u001b[0m\u001b[1;33m\u001b[0m\u001b[1;33m\u001b[0m\u001b[0m\n\u001b[0;32m    422\u001b[0m     \u001b[1;32mif\u001b[0m \u001b[1;32mnot\u001b[0m \u001b[0marrays\u001b[0m\u001b[1;33m:\u001b[0m\u001b[1;33m\u001b[0m\u001b[1;33m\u001b[0m\u001b[0m\n\u001b[1;32m--> 423\u001b[1;33m         \u001b[1;32mraise\u001b[0m \u001b[0mValueError\u001b[0m\u001b[1;33m(\u001b[0m\u001b[1;34m'need at least one array to stack'\u001b[0m\u001b[1;33m)\u001b[0m\u001b[1;33m\u001b[0m\u001b[1;33m\u001b[0m\u001b[0m\n\u001b[0m\u001b[0;32m    424\u001b[0m \u001b[1;33m\u001b[0m\u001b[0m\n\u001b[0;32m    425\u001b[0m     \u001b[0mshapes\u001b[0m \u001b[1;33m=\u001b[0m \u001b[1;33m{\u001b[0m\u001b[0marr\u001b[0m\u001b[1;33m.\u001b[0m\u001b[0mshape\u001b[0m \u001b[1;32mfor\u001b[0m \u001b[0marr\u001b[0m \u001b[1;32min\u001b[0m \u001b[0marrays\u001b[0m\u001b[1;33m}\u001b[0m\u001b[1;33m\u001b[0m\u001b[1;33m\u001b[0m\u001b[0m\n",
      "\u001b[1;31mValueError\u001b[0m: need at least one array to stack"
     ]
    }
   ],
   "source": [
    "path = 'data2'\n",
    "patient_dicom = load_scan(path)\n",
    "patient_pixels = get_pixels_hu(patient_dicom)\n",
    "#sanity check\n",
    "plt.imshow(patient_pixels[326], cmap=plt.cm.bone)"
   ]
  },
  {
   "cell_type": "code",
   "execution_count": 37,
   "id": "7f86df52",
   "metadata": {},
   "outputs": [
    {
     "name": "stdout",
     "output_type": "stream",
     "text": [
      "Dataset.file_meta -------------------------------\n",
      "(0002, 0000) File Meta Information Group Length  UL: 202\n",
      "(0002, 0001) File Meta Information Version       OB: b'\\x00\\x01'\n",
      "(0002, 0002) Media Storage SOP Class UID         UI: Ultrasound Multi-frame Image Storage\n",
      "(0002, 0003) Media Storage SOP Instance UID      UI: 1.2.840.113663.1500.1.444852356.3.5.20210120.123200.898\n",
      "(0002, 0010) Transfer Syntax UID                 UI: JPEG Baseline (Process 1)\n",
      "(0002, 0012) Implementation Class UID            UI: 1.3.46.670589.14.10000.202\n",
      "(0002, 0013) Implementation Version Name         SH: 'EPIQ-AFFIN_2.02'\n",
      "-------------------------------------------------\n",
      "(0008, 0008) Image Type                          CS: ['DERIVED', 'PRIMARY', 'CARDIOLOGY']\n",
      "(0008, 0012) Instance Creation Date              DA: '20210120'\n",
      "(0008, 0013) Instance Creation Time              TM: '123200'\n",
      "(0008, 0016) SOP Class UID                       UI: Ultrasound Multi-frame Image Storage\n",
      "(0008, 0018) SOP Instance UID                    UI: 1.2.840.113663.1500.1.444852356.3.5.20210120.123200.898\n",
      "(0008, 0020) Study Date                          DA: '20210120'\n",
      "(0008, 0021) Series Date                         DA: '20210120'\n",
      "(0008, 0023) Content Date                        DA: '20210120'\n",
      "(0008, 002a) Acquisition DateTime                DT: '20210120123158'\n",
      "(0008, 0030) Study Time                          TM: '123033'\n",
      "(0008, 0031) Series Time                         TM: '123033'\n",
      "(0008, 0033) Content Time                        TM: '123200'\n",
      "(0008, 0050) Accession Number                    SH: ''\n",
      "(0008, 0060) Modality                            CS: 'US'\n",
      "(0008, 0068) Presentation Intent Type            CS: 'FOR PRESENTATION'\n",
      "(0008, 0070) Manufacturer                        LO: 'Philips Medical Systems'\n",
      "(0008, 0080) Institution Name                    LO: 'SAGAR  HOSPITAL'\n",
      "(0008, 0090) Referring Physician's Name          PN: ''\n",
      "(0008, 1010) Station Name                        SH: ''\n",
      "(0008, 1030) Study Description                   LO: ''\n",
      "(0008, 1048) Physician(s) of Record              PN: ''\n",
      "(0008, 1070) Operators' Name                     PN: ''\n",
      "(0008, 1090) Manufacturer's Model Name           LO: 'Affiniti 70C'\n",
      "(0008, 1111)  Referenced Performed Procedure Step Sequence  1 item(s) ---- \n",
      "   (0008, 1150) Referenced SOP Class UID            UI: Modality Performed Procedure Step SOP Class\n",
      "   (0008, 1155) Referenced SOP Instance UID         UI: 1.2.840.113663.1500.1.444852356.5.1.20210120.123033.762\n",
      "   ---------\n",
      "(0008, 2111) Derivation Description              ST: '96'\n",
      "(0008, 2144) Recommended Display Frame Rate      IS: '71'\n",
      "(0010, 0010) Patient's Name                      PN: 'MR ARBIND GUPTA^^^^'\n",
      "(0010, 0020) Patient ID                          LO: '58'\n",
      "(0010, 0030) Patient's Birth Date                DA: ''\n",
      "(0010, 0040) Patient's Sex                       CS: 'M'\n",
      "(0010, 4000) Patient Comments                    LT: ''\n",
      "(0018, 0040) Cine Rate                           IS: '71'\n",
      "(0018, 1000) Device Serial Number                LO: '444852356'\n",
      "(0018, 1020) Software Versions                   LO: 'Affiniti 70C_2.0.2.393'\n",
      "(0018, 1030) Protocol Name                       LO: 'Free Form'\n",
      "(0018, 1063) Frame Time                          DS: '14.043'\n",
      "(0018, 1088) Heart Rate                          IS: '73'\n",
      "(0018, 5010) Transducer Data                     LO: ['S5_1', '55360', '']\n",
      "(0018, 5020) Processing Function                 LO: 'CARD_ADULT_GEN_CV'\n",
      "(0018, 6011)  Sequence of Ultrasound Regions  1 item(s) ---- \n",
      "   (0018, 6012) Region Spatial Format               US: 1\n",
      "   (0018, 6014) Region Data Type                    US: 1\n",
      "   (0018, 6016) Region Flags                        UL: 2\n",
      "   (0018, 6018) Region Location Min X0              UL: 11\n",
      "   (0018, 601a) Region Location Min Y0              UL: 30\n",
      "   (0018, 601c) Region Location Max X1              UL: 788\n",
      "   (0018, 601e) Region Location Max Y1              UL: 592\n",
      "   (0018, 6024) Physical Units X Direction          US: 3\n",
      "   (0018, 6026) Physical Units Y Direction          US: 3\n",
      "   (0018, 602c) Physical Delta X                    FD: 0.03261541106170776\n",
      "   (0018, 602e) Physical Delta Y                    FD: 0.03261541106170776\n",
      "   ---------\n",
      "(0020, 000d) Study Instance UID                  UI: 1.2.840.113663.1500.1.444852356.1.1.20210120.123033.761\n",
      "(0020, 000e) Series Instance UID                 UI: 1.2.840.113663.1500.1.444852356.2.1.20210120.123033.762\n",
      "(0020, 0010) Study ID                            SH: '20210120.123033'\n",
      "(0020, 0011) Series Number                       IS: '1'\n",
      "(0020, 0013) Instance Number                     IS: '5'\n",
      "(0028, 0002) Samples per Pixel                   US: 3\n",
      "(0028, 0004) Photometric Interpretation          CS: 'YBR_FULL_422'\n",
      "(0028, 0006) Planar Configuration                US: 0\n",
      "(0028, 0008) Number of Frames                    IS: '117'\n",
      "(0028, 0009) Frame Increment Pointer             AT: (0018, 1063)\n",
      "(0028, 0010) Rows                                US: 600\n",
      "(0028, 0011) Columns                             US: 800\n",
      "(0028, 0014) Ultrasound Color Data Present       US: 0\n",
      "(0028, 0030) Pixel Spacing                       DS: [0.32615411061707, 0.32615411061707]\n",
      "(0028, 0100) Bits Allocated                      US: 8\n",
      "(0028, 0101) Bits Stored                         US: 8\n",
      "(0028, 0102) High Bit                            US: 7\n",
      "(0028, 0103) Pixel Representation                US: 0\n",
      "(0028, 0301) Burned In Annotation                CS: 'NO'\n",
      "(0028, 2110) Lossy Image Compression             CS: '01'\n",
      "(0028, 2112) Lossy Image Compression Ratio       DS: '100.0'\n",
      "(0028, 2114) Lossy Image Compression Method      CS: 'ISO_10918_1'\n",
      "(0040, 0244) Performed Procedure Step Start Date DA: '20210120'\n",
      "(0040, 0245) Performed Procedure Step Start Time TM: '123033'\n",
      "(0040, 0253) Performed Procedure Step ID         SH: '20210120.123033'\n",
      "(0040, 0254) Performed Procedure Step Descriptio LO: ''\n",
      "(0040, 0280) Comments on the Performed Procedure ST: 'None'\n",
      "(2001, 0010) Private Creator                     LO: 'Philips Imaging DD 001'\n",
      "(2001, 1063) [Examination Source]                CS: 'ELSEWHERE'\n",
      "(200d, 0020) Private Creator                     LO: 'Philips US Imaging DD 017'\n",
      "(200d, 0024) Private Creator                     LO: 'Philips US Imaging DD 021'\n",
      "(200d, 0026) Private Creator                     LO: 'Philips US Imaging DD 023'\n",
      "(200d, 0030) Private Creator                     LO: 'Philips US Imaging DD 033'\n",
      "(200d, 0039) Private Creator                     LO: 'Philips US Imaging DD 042'\n",
      "(200d, 003a) Private Creator                     LO: 'Philips US Imaging DD 043'\n",
      "(200d, 0051) Private Creator                     LO: 'Philips US Imaging DD 066'\n",
      "(200d, 2005) [Unknown]                           LO: 'native'\n",
      "(200d, 2407) Private tag data                    LO: 'CUSTOM_SELECTION_13'\n",
      "(200d, 2637) [Unknown]                           DA: '20210120'\n",
      "(200d, 2638) [Unknown]                           TM: '123033'\n",
      "(200d, 2645) Private tag data                    IS: '0'\n",
      "(200d, 2659) Private tag data                    IS: '0'\n",
      "(200d, 3000) Private tag data                    OB: Array of 447514 elements\n",
      "(200d, 300f) Private tag data                    OB: Array of 1116 elements\n",
      "(200d, 3014) [Unknown]                           IS: '1'\n",
      "(200d, 3022) Private tag data                    IS: '0'\n",
      "(200d, 3915) Private tag data                    IS: '1'\n",
      "(200d, 3916) Private tag data                    FD: 87.0824504491611\n",
      "(200d, 3a05) [Unknown]                           SH: 'ACCEPTED'\n",
      "(200d, 3a06) Private tag data                    IS: '0'\n",
      "(200d, 5100) Private tag data                    OB: Array of 15898 elements\n",
      "(7fe0, 0010) Pixel Data                          OB: Array of 9138202 elements\n",
      "92\n"
     ]
    },
    {
     "data": {
      "text/plain": [
       "['DERIVED', 'PRIMARY', 'CARDIOLOGY']"
      ]
     },
     "execution_count": 37,
     "metadata": {},
     "output_type": "execute_result"
    }
   ],
   "source": [
    "ds = pydicom.read_file('data2/IM_0003.dcm')\n",
    "print(ds)\n",
    "print(len(ds))\n",
    "ds.ImageType"
   ]
  },
  {
   "cell_type": "code",
   "execution_count": null,
   "id": "0f0ae02c",
   "metadata": {},
   "outputs": [],
   "source": []
  },
  {
   "cell_type": "code",
   "execution_count": 36,
   "id": "6140c951",
   "metadata": {},
   "outputs": [
    {
     "ename": "AttributeError",
     "evalue": "'DataElement' object has no attribute 'pixel_array'",
     "output_type": "error",
     "traceback": [
      "\u001b[1;31m---------------------------------------------------------------------------\u001b[0m",
      "\u001b[1;31mAttributeError\u001b[0m                            Traceback (most recent call last)",
      "\u001b[1;32m~\\AppData\\Local\\Temp/ipykernel_14088/1573245308.py\u001b[0m in \u001b[0;36m<module>\u001b[1;34m\u001b[0m\n\u001b[1;32m----> 1\u001b[1;33m \u001b[0mpatient_pixels\u001b[0m \u001b[1;33m=\u001b[0m \u001b[0mget_pixels_hu\u001b[0m\u001b[1;33m(\u001b[0m\u001b[0mds\u001b[0m\u001b[1;33m)\u001b[0m\u001b[1;33m\u001b[0m\u001b[1;33m\u001b[0m\u001b[0m\n\u001b[0m\u001b[0;32m      2\u001b[0m \u001b[1;31m#sanity check\u001b[0m\u001b[1;33m\u001b[0m\u001b[1;33m\u001b[0m\u001b[0m\n\u001b[0;32m      3\u001b[0m \u001b[0mplt\u001b[0m\u001b[1;33m.\u001b[0m\u001b[0mimshow\u001b[0m\u001b[1;33m(\u001b[0m\u001b[0mpatient_pixels\u001b[0m\u001b[1;33m[\u001b[0m\u001b[1;36m326\u001b[0m\u001b[1;33m]\u001b[0m\u001b[1;33m,\u001b[0m \u001b[0mcmap\u001b[0m\u001b[1;33m=\u001b[0m\u001b[0mplt\u001b[0m\u001b[1;33m.\u001b[0m\u001b[0mcm\u001b[0m\u001b[1;33m.\u001b[0m\u001b[0mbone\u001b[0m\u001b[1;33m)\u001b[0m\u001b[1;33m\u001b[0m\u001b[1;33m\u001b[0m\u001b[0m\n",
      "\u001b[1;32m~\\AppData\\Local\\Temp/ipykernel_14088/1728574424.py\u001b[0m in \u001b[0;36mget_pixels_hu\u001b[1;34m(scans)\u001b[0m\n\u001b[0;32m     13\u001b[0m     \u001b[1;32mreturn\u001b[0m \u001b[0mslices\u001b[0m\u001b[1;33m\u001b[0m\u001b[1;33m\u001b[0m\u001b[0m\n\u001b[0;32m     14\u001b[0m \u001b[1;32mdef\u001b[0m \u001b[0mget_pixels_hu\u001b[0m\u001b[1;33m(\u001b[0m\u001b[0mscans\u001b[0m\u001b[1;33m)\u001b[0m\u001b[1;33m:\u001b[0m\u001b[1;33m\u001b[0m\u001b[1;33m\u001b[0m\u001b[0m\n\u001b[1;32m---> 15\u001b[1;33m     \u001b[0mimage\u001b[0m \u001b[1;33m=\u001b[0m \u001b[0mnp\u001b[0m\u001b[1;33m.\u001b[0m\u001b[0mstack\u001b[0m\u001b[1;33m(\u001b[0m\u001b[1;33m[\u001b[0m\u001b[0ms\u001b[0m\u001b[1;33m.\u001b[0m\u001b[0mpixel_array\u001b[0m \u001b[1;32mfor\u001b[0m \u001b[0ms\u001b[0m \u001b[1;32min\u001b[0m \u001b[0mscans\u001b[0m\u001b[1;33m]\u001b[0m\u001b[1;33m)\u001b[0m\u001b[1;33m\u001b[0m\u001b[1;33m\u001b[0m\u001b[0m\n\u001b[0m\u001b[0;32m     16\u001b[0m     \u001b[0mimage\u001b[0m \u001b[1;33m=\u001b[0m \u001b[0mimage\u001b[0m\u001b[1;33m.\u001b[0m\u001b[0mastype\u001b[0m\u001b[1;33m(\u001b[0m\u001b[0mnp\u001b[0m\u001b[1;33m.\u001b[0m\u001b[0mint16\u001b[0m\u001b[1;33m)\u001b[0m\u001b[1;33m\u001b[0m\u001b[1;33m\u001b[0m\u001b[0m\n\u001b[0;32m     17\u001b[0m     \u001b[1;31m# Set outside-of-scan pixels to 0\u001b[0m\u001b[1;33m\u001b[0m\u001b[1;33m\u001b[0m\u001b[0m\n",
      "\u001b[1;32m~\\AppData\\Local\\Temp/ipykernel_14088/1728574424.py\u001b[0m in \u001b[0;36m<listcomp>\u001b[1;34m(.0)\u001b[0m\n\u001b[0;32m     13\u001b[0m     \u001b[1;32mreturn\u001b[0m \u001b[0mslices\u001b[0m\u001b[1;33m\u001b[0m\u001b[1;33m\u001b[0m\u001b[0m\n\u001b[0;32m     14\u001b[0m \u001b[1;32mdef\u001b[0m \u001b[0mget_pixels_hu\u001b[0m\u001b[1;33m(\u001b[0m\u001b[0mscans\u001b[0m\u001b[1;33m)\u001b[0m\u001b[1;33m:\u001b[0m\u001b[1;33m\u001b[0m\u001b[1;33m\u001b[0m\u001b[0m\n\u001b[1;32m---> 15\u001b[1;33m     \u001b[0mimage\u001b[0m \u001b[1;33m=\u001b[0m \u001b[0mnp\u001b[0m\u001b[1;33m.\u001b[0m\u001b[0mstack\u001b[0m\u001b[1;33m(\u001b[0m\u001b[1;33m[\u001b[0m\u001b[0ms\u001b[0m\u001b[1;33m.\u001b[0m\u001b[0mpixel_array\u001b[0m \u001b[1;32mfor\u001b[0m \u001b[0ms\u001b[0m \u001b[1;32min\u001b[0m \u001b[0mscans\u001b[0m\u001b[1;33m]\u001b[0m\u001b[1;33m)\u001b[0m\u001b[1;33m\u001b[0m\u001b[1;33m\u001b[0m\u001b[0m\n\u001b[0m\u001b[0;32m     16\u001b[0m     \u001b[0mimage\u001b[0m \u001b[1;33m=\u001b[0m \u001b[0mimage\u001b[0m\u001b[1;33m.\u001b[0m\u001b[0mastype\u001b[0m\u001b[1;33m(\u001b[0m\u001b[0mnp\u001b[0m\u001b[1;33m.\u001b[0m\u001b[0mint16\u001b[0m\u001b[1;33m)\u001b[0m\u001b[1;33m\u001b[0m\u001b[1;33m\u001b[0m\u001b[0m\n\u001b[0;32m     17\u001b[0m     \u001b[1;31m# Set outside-of-scan pixels to 0\u001b[0m\u001b[1;33m\u001b[0m\u001b[1;33m\u001b[0m\u001b[0m\n",
      "\u001b[1;31mAttributeError\u001b[0m: 'DataElement' object has no attribute 'pixel_array'"
     ]
    }
   ],
   "source": [
    "\n",
    "patient_pixels = get_pixels_hu(ds)\n",
    "#sanity check\n",
    "plt.imshow(patient_pixels[326], cmap=plt.cm.bone)"
   ]
  },
  {
   "cell_type": "code",
   "execution_count": null,
   "id": "583acdc5",
   "metadata": {},
   "outputs": [],
   "source": []
  }
 ],
 "metadata": {
  "kernelspec": {
   "display_name": "Python 3 (ipykernel)",
   "language": "python",
   "name": "python3"
  },
  "language_info": {
   "codemirror_mode": {
    "name": "ipython",
    "version": 3
   },
   "file_extension": ".py",
   "mimetype": "text/x-python",
   "name": "python",
   "nbconvert_exporter": "python",
   "pygments_lexer": "ipython3",
   "version": "3.9.7"
  }
 },
 "nbformat": 4,
 "nbformat_minor": 5
}
