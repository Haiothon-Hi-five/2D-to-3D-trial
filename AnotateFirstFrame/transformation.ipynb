{
 "cells": [
  {
   "cell_type": "code",
   "execution_count": 1,
   "id": "440570b4",
   "metadata": {},
   "outputs": [],
   "source": [
    "import cv2\n",
    "import numpy as np\n",
    "\n",
    "\n",
    "def transform(image,\n",
    "              translation=(0, 0, 0),\n",
    "              rotation=(0, 0, 0),\n",
    "              scaling=(1, 1, 1),\n",
    "              shearing=(0, 0, 0)):\n",
    "    \n",
    "    # get the values on each axis\n",
    "    t_x, t_y, t_z = translation\n",
    "    r_x, r_y, r_z = rotation\n",
    "    sc_x, sc_y, sc_z = scaling\n",
    "    sh_x, sh_y, sh_z = shearing\n",
    "    \n",
    "    # convert degree angles to rad\n",
    "    theta_rx = np.deg2rad(r_x)\n",
    "    theta_ry = np.deg2rad(r_y)\n",
    "    theta_rz = np.deg2rad(r_z)\n",
    "    theta_shx = np.deg2rad(sh_x)\n",
    "    theta_shy = np.deg2rad(sh_y)\n",
    "    theta_shz = np.deg2rad(sh_z)\n",
    "    \n",
    "    # get the height and the width of the image\n",
    "    h, w = image.shape[:2]\n",
    "    # compute its diagonal\n",
    "    diag = (h ** 2 + w ** 2) ** 0.5\n",
    "    # compute the focal length\n",
    "    f = diag\n",
    "    if np.sin(theta_rz) != 0:\n",
    "        f /= 2 * np.sin(theta_rz)\n",
    "        \n",
    "    # set the image from cartesian to projective dimension\n",
    "    H_M = np.array([[1, 0, -w / 2],\n",
    "                    [0, 1, -h / 2],\n",
    "                    [0, 0,      1],\n",
    "                    [0, 0,      1]])\n",
    "    # set the image projective to carrtesian dimension\n",
    "    Hp_M = np.array([[f, 0, w / 2, 0],\n",
    "                     [0, f, h / 2, 0],\n",
    "                     [0, 0,     1, 0]])\n",
    "    \"\"\"\n",
    "            We will define our matrices here in next parts\n",
    "                                                            \"\"\"\n",
    "    Identity = np.array([[1, 0, 0, 0],\n",
    "                         [0, 1, 0, 0],\n",
    "                         [0, 0, 1, 0],\n",
    "                         [0, 0, 0, 1]])\n",
    "    \n",
    "    # compute the full transform matrix\n",
    "    M = Identity\n",
    "    M = np.dot(T_M,  M)\n",
    "    M = np.dot(R_M,  M)\n",
    "    M = np.dot(Sc_M, M)\n",
    "    M = np.dot(Sh_M, M)\n",
    "    M = np.dot(Hp_M, np.dot(M, H_M))\n",
    "    # apply the transformation\n",
    "    image = cv2.warpPerspective(image, M, (w, h))\n",
    "    return image"
   ]
  },
  {
   "cell_type": "code",
   "execution_count": 3,
   "id": "e49c5172",
   "metadata": {},
   "outputs": [
    {
     "ename": "NameError",
     "evalue": "name 'f' is not defined",
     "output_type": "error",
     "traceback": [
      "\u001b[1;31m---------------------------------------------------------------------------\u001b[0m",
      "\u001b[1;31mNameError\u001b[0m                                 Traceback (most recent call last)",
      "\u001b[1;32m~\\AppData\\Local\\Temp/ipykernel_4760/2841968433.py\u001b[0m in \u001b[0;36m<module>\u001b[1;34m\u001b[0m\n\u001b[1;32m----> 1\u001b[1;33m \u001b[0mt_z\u001b[0m \u001b[1;33m=\u001b[0m \u001b[1;33m(\u001b[0m\u001b[0mf\u001b[0m \u001b[1;33m-\u001b[0m \u001b[0mt_z\u001b[0m\u001b[1;33m)\u001b[0m \u001b[1;33m/\u001b[0m \u001b[0msc_z\u001b[0m \u001b[1;33m**\u001b[0m \u001b[1;36m2\u001b[0m\u001b[1;33m\u001b[0m\u001b[1;33m\u001b[0m\u001b[0m\n\u001b[0m\u001b[0;32m      2\u001b[0m \u001b[1;31m# translation matrix to translate the image\u001b[0m\u001b[1;33m\u001b[0m\u001b[1;33m\u001b[0m\u001b[0m\n\u001b[0;32m      3\u001b[0m T_M = np.array([[1, 0, 0, t_x],\n\u001b[0;32m      4\u001b[0m                 \u001b[1;33m[\u001b[0m\u001b[1;36m0\u001b[0m\u001b[1;33m,\u001b[0m \u001b[1;36m1\u001b[0m\u001b[1;33m,\u001b[0m \u001b[1;36m0\u001b[0m\u001b[1;33m,\u001b[0m \u001b[0mt_y\u001b[0m\u001b[1;33m]\u001b[0m\u001b[1;33m,\u001b[0m\u001b[1;33m\u001b[0m\u001b[1;33m\u001b[0m\u001b[0m\n\u001b[0;32m      5\u001b[0m                 \u001b[1;33m[\u001b[0m\u001b[1;36m0\u001b[0m\u001b[1;33m,\u001b[0m \u001b[1;36m0\u001b[0m\u001b[1;33m,\u001b[0m \u001b[1;36m1\u001b[0m\u001b[1;33m,\u001b[0m \u001b[0mt_z\u001b[0m\u001b[1;33m]\u001b[0m\u001b[1;33m,\u001b[0m\u001b[1;33m\u001b[0m\u001b[1;33m\u001b[0m\u001b[0m\n",
      "\u001b[1;31mNameError\u001b[0m: name 'f' is not defined"
     ]
    }
   ],
   "source": [
    "t_z = (f - t_z) / sc_z ** 2\n",
    "# translation matrix to translate the image\n",
    "T_M = np.array([[1, 0, 0, t_x],\n",
    "                [0, 1, 0, t_y],\n",
    "                [0, 0, 1, t_z],\n",
    "                [0, 0, 0,  1]])"
   ]
  },
  {
   "cell_type": "code",
   "execution_count": 4,
   "id": "210ee120",
   "metadata": {},
   "outputs": [
    {
     "ename": "NameError",
     "evalue": "name 'theta_rx' is not defined",
     "output_type": "error",
     "traceback": [
      "\u001b[1;31m---------------------------------------------------------------------------\u001b[0m",
      "\u001b[1;31mNameError\u001b[0m                                 Traceback (most recent call last)",
      "\u001b[1;32m~\\AppData\\Local\\Temp/ipykernel_4760/4165419022.py\u001b[0m in \u001b[0;36m<module>\u001b[1;34m\u001b[0m\n\u001b[0;32m      1\u001b[0m \u001b[1;31m# calculate cos and sin of angles\u001b[0m\u001b[1;33m\u001b[0m\u001b[1;33m\u001b[0m\u001b[0m\n\u001b[1;32m----> 2\u001b[1;33m \u001b[0msin_rx\u001b[0m\u001b[1;33m,\u001b[0m \u001b[0mcos_rx\u001b[0m \u001b[1;33m=\u001b[0m \u001b[0mnp\u001b[0m\u001b[1;33m.\u001b[0m\u001b[0msin\u001b[0m\u001b[1;33m(\u001b[0m\u001b[0mtheta_rx\u001b[0m\u001b[1;33m)\u001b[0m\u001b[1;33m,\u001b[0m \u001b[0mnp\u001b[0m\u001b[1;33m.\u001b[0m\u001b[0mcos\u001b[0m\u001b[1;33m(\u001b[0m\u001b[0mtheta_rx\u001b[0m\u001b[1;33m)\u001b[0m\u001b[1;33m\u001b[0m\u001b[1;33m\u001b[0m\u001b[0m\n\u001b[0m\u001b[0;32m      3\u001b[0m \u001b[0msin_ry\u001b[0m\u001b[1;33m,\u001b[0m \u001b[0mcos_ry\u001b[0m \u001b[1;33m=\u001b[0m \u001b[0mnp\u001b[0m\u001b[1;33m.\u001b[0m\u001b[0msin\u001b[0m\u001b[1;33m(\u001b[0m\u001b[0mtheta_ry\u001b[0m\u001b[1;33m)\u001b[0m\u001b[1;33m,\u001b[0m \u001b[0mnp\u001b[0m\u001b[1;33m.\u001b[0m\u001b[0mcos\u001b[0m\u001b[1;33m(\u001b[0m\u001b[0mtheta_ry\u001b[0m\u001b[1;33m)\u001b[0m\u001b[1;33m\u001b[0m\u001b[1;33m\u001b[0m\u001b[0m\n\u001b[0;32m      4\u001b[0m \u001b[0msin_rz\u001b[0m\u001b[1;33m,\u001b[0m \u001b[0mcos_rz\u001b[0m \u001b[1;33m=\u001b[0m \u001b[0mnp\u001b[0m\u001b[1;33m.\u001b[0m\u001b[0msin\u001b[0m\u001b[1;33m(\u001b[0m\u001b[0mtheta_rz\u001b[0m\u001b[1;33m)\u001b[0m\u001b[1;33m,\u001b[0m \u001b[0mnp\u001b[0m\u001b[1;33m.\u001b[0m\u001b[0mcos\u001b[0m\u001b[1;33m(\u001b[0m\u001b[0mtheta_rz\u001b[0m\u001b[1;33m)\u001b[0m\u001b[1;33m\u001b[0m\u001b[1;33m\u001b[0m\u001b[0m\n\u001b[0;32m      5\u001b[0m \u001b[1;31m# get the rotation matrix on x axis\u001b[0m\u001b[1;33m\u001b[0m\u001b[1;33m\u001b[0m\u001b[0m\n",
      "\u001b[1;31mNameError\u001b[0m: name 'theta_rx' is not defined"
     ]
    }
   ],
   "source": [
    "    # calculate cos and sin of angles\n",
    "    sin_rx, cos_rx = np.sin(theta_rx), np.cos(theta_rx)\n",
    "    sin_ry, cos_ry = np.sin(theta_ry), np.cos(theta_ry)\n",
    "    sin_rz, cos_rz = np.sin(theta_rz), np.cos(theta_rz)\n",
    "    # get the rotation matrix on x axis\n",
    "    R_Mx = np.array([[1,      0,       0, 0],\n",
    "                     [0, cos_rx, -sin_rx, 0],\n",
    "                     [0, sin_rx,  cos_rx, 0],\n",
    "                     [0,      0,       0, 1]])\n",
    "    # get the rotation matrix on y axis\n",
    "    R_My = np.array([[cos_ry, 0, -sin_ry, 0],\n",
    "                     [     0, 1,       0, 0],\n",
    "                     [sin_ry, 0,  cos_ry, 0],\n",
    "                     [     0, 0,       0, 1]])\n",
    "    # get the rotation matrix on z axis\n",
    "    R_Mz = np.array([[cos_rz, -sin_rz, 0, 0],\n",
    "                     [sin_rz,  cos_rz, 0, 0],\n",
    "                     [     0,       0, 1, 0],\n",
    "                     [     0,       0, 0, 1]])\n",
    "    # compute the full rotation matrix\n",
    "    R_M = np.dot(np.dot(R_Mx, R_My), R_Mz)"
   ]
  },
  {
   "cell_type": "code",
   "execution_count": null,
   "id": "77202d9f",
   "metadata": {},
   "outputs": [],
   "source": []
  }
 ],
 "metadata": {
  "kernelspec": {
   "display_name": "Python 3 (ipykernel)",
   "language": "python",
   "name": "python3"
  },
  "language_info": {
   "codemirror_mode": {
    "name": "ipython",
    "version": 3
   },
   "file_extension": ".py",
   "mimetype": "text/x-python",
   "name": "python",
   "nbconvert_exporter": "python",
   "pygments_lexer": "ipython3",
   "version": "3.9.7"
  }
 },
 "nbformat": 4,
 "nbformat_minor": 5
}
