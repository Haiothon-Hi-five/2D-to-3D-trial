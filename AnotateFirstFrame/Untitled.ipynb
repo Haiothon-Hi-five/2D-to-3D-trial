{
 "cells": [
  {
   "cell_type": "code",
   "execution_count": null,
   "id": "c0fde977",
   "metadata": {},
   "outputs": [],
   "source": [
    "!pip install fastai"
   ]
  },
  {
   "cell_type": "code",
   "execution_count": null,
   "id": "80b0668f",
   "metadata": {},
   "outputs": [],
   "source": [
    "!pip install seaborn"
   ]
  },
  {
   "cell_type": "code",
   "execution_count": null,
   "id": "7831dc84",
   "metadata": {},
   "outputs": [],
   "source": [
    "#Load the dependancies\n",
    "from fastai.basics import *\n",
    "from fastai.callback.all import *\n",
    "from fastai.vision.all import *\n",
    "from fastai.medical.imaging import *\n",
    "import pydicom\n",
    "import seaborn as sns\n",
    "matplotlib.rcParams['image.cmap'] = 'bone'\n",
    "from matplotlib.colors import ListedColormap, LinearSegmentedColormap"
   ]
  },
  {
   "cell_type": "code",
   "execution_count": null,
   "id": "0cc5a4b4",
   "metadata": {},
   "outputs": [],
   "source": [
    "path = Path('data2')\n",
    "train_imgs = path"
   ]
  },
  {
   "cell_type": "code",
   "execution_count": null,
   "id": "aea486c1",
   "metadata": {},
   "outputs": [],
   "source": [
    "#get dicom files\n",
    "items = get_dicom_files(train_imgs, recurse=True)\n",
    "print(len(items))\n",
    "#now lets read a file:\n",
    "img = items[0]\n",
    "dimg = pydicom.dcmread(img)\n",
    "print(dimg)"
   ]
  },
  {
   "cell_type": "code",
   "execution_count": null,
   "id": "0e6fbcda",
   "metadata": {},
   "outputs": [],
   "source": [
    "dimg\n"
   ]
  },
  {
   "cell_type": "code",
   "execution_count": null,
   "id": "ce49bfd2",
   "metadata": {},
   "outputs": [],
   "source": [
    "dimg.PixelData[:200]"
   ]
  },
  {
   "cell_type": "code",
   "execution_count": null,
   "id": "4f7c44d9",
   "metadata": {},
   "outputs": [],
   "source": [
    "dimg.pixel_array, dimg.pixel_array.shape"
   ]
  },
  {
   "cell_type": "code",
   "execution_count": null,
   "id": "0cb7b5cb",
   "metadata": {},
   "outputs": [],
   "source": [
    "source = untar_data(URLs.SIIM_SMALL)\n",
    "items = get_dicom_files(source)\n",
    "patient1 = pydicom.dcmread(items[0])\n",
    "patient1.show()"
   ]
  },
  {
   "cell_type": "code",
   "execution_count": null,
   "id": "03a40431",
   "metadata": {},
   "outputs": [],
   "source": [
    "csource = Path('data2')\n",
    "citems = get_dicom_files(csource)\n",
    "print(citems)\n",
    "patient2 = pydicom.dcmread(citems[0])\n",
    "patient2.show()"
   ]
  },
  {
   "cell_type": "code",
   "execution_count": null,
   "id": "c9bf3b00",
   "metadata": {},
   "outputs": [],
   "source": [
    "#updating to handle multiple frames\n",
    "@patch\n",
    "@delegates(show_image, show_images)\n",
    "def show(self:DcmDataset, frames=1, scale=True, cmap=plt.cm.bone, min_px=-1100, max_px=None, **kwargs):\n",
    "    px = (self.windowed(*scale) if isinstance(scale,tuple)\n",
    "          else self.hist_scaled(min_px=min_px,max_px=max_px,brks=scale) if isinstance(scale,(ndarray,Tensor))\n",
    "          else self.hist_scaled(min_px=min_px,max_px=max_px) if scale\n",
    "          else self.scaled_px)\n",
    "    if px.ndim > 2: \n",
    "        gh=[]\n",
    "        p = px.shape; print(f'{p[0]} frames per file')\n",
    "        for i in range(frames): u = px[i]; gh.append(u)\n",
    "        show_images(gh, **kwargs)    \n",
    "    else: \n",
    "        print('1 frame per file')\n",
    "        show_image(px, **kwargs)"
   ]
  },
  {
   "cell_type": "code",
   "execution_count": null,
   "id": "aca13d8a",
   "metadata": {},
   "outputs": [],
   "source": [
    "tsource = Path('data2')\n",
    "titems = get_dicom_files(tsource)\n",
    "patient3 = pydicom.dcmread(titems[0])\n",
    "patient3.show(10)"
   ]
  },
  {
   "cell_type": "code",
   "execution_count": null,
   "id": "77cf0eaa",
   "metadata": {},
   "outputs": [],
   "source": [
    "#lets convert the pixel_array into a tensor.  Fastai can #conveniently do this for us\n",
    "tensor_dicom = patient2.pixels#convert into tensor\n",
    "print(f'RescaleIntercept: {patient2.RescaleIntercept:1f}\\nRescaleSlope: {patient2.RescaleSlope:1f}\\nMax pixel: '\n",
    "      f'{tensor_dicom.max()}\\nMin pixel: {tensor_dicom.min()}\\nShape: {tensor_dicom.shape}')"
   ]
  },
  {
   "cell_type": "code",
   "execution_count": null,
   "id": "2bce8186",
   "metadata": {},
   "outputs": [],
   "source": [
    "plt.hist(tensor_dicom.flatten(), color='c')"
   ]
  },
  {
   "cell_type": "code",
   "execution_count": null,
   "id": "59180f6c",
   "metadata": {},
   "outputs": [],
   "source": []
  }
 ],
 "metadata": {
  "kernelspec": {
   "display_name": "Python 3 (ipykernel)",
   "language": "python",
   "name": "python3"
  },
  "language_info": {
   "codemirror_mode": {
    "name": "ipython",
    "version": 3
   },
   "file_extension": ".py",
   "mimetype": "text/x-python",
   "name": "python",
   "nbconvert_exporter": "python",
   "pygments_lexer": "ipython3",
   "version": "3.9.7"
  }
 },
 "nbformat": 4,
 "nbformat_minor": 5
}
